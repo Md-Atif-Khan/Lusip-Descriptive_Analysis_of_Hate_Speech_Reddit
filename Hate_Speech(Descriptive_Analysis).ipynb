{
  "nbformat": 4,
  "nbformat_minor": 0,
  "metadata": {
    "colab": {
      "provenance": []
    },
    "kernelspec": {
      "name": "python3",
      "display_name": "Python 3"
    },
    "language_info": {
      "name": "python"
    }
  },
  "cells": [
    {
      "cell_type": "markdown",
      "source": [
        "#**Sentiment Analysis**"
      ],
      "metadata": {
        "id": "lRhqx8YbVSHn"
      }
    },
    {
      "cell_type": "code",
      "source": [
        "# from google.colab import drive\n",
        "# drive.mount('/content/drive')"
      ],
      "metadata": {
        "id": "Y9lMvNvU1mE-"
      },
      "execution_count": 4,
      "outputs": []
    },
    {
      "cell_type": "code",
      "source": [
        "import numpy as np\n",
        "import pandas as pd\n",
        "import textblob\n",
        "import matplotlib.pyplot as plt\n",
        "import seaborn as sns\n",
        "%matplotlib inline"
      ],
      "metadata": {
        "id": "uQNH2zmSVwci"
      },
      "execution_count": 5,
      "outputs": []
    },
    {
      "cell_type": "markdown",
      "source": [
        "**COMMENTS**"
      ],
      "metadata": {
        "id": "BT5e-xcSdLWA"
      }
    },
    {
      "cell_type": "code",
      "source": [
        "new_df= pd.read_csv(r\"/content/merged_singapore_data.csv\")\n",
        "new_df.head()"
      ],
      "metadata": {
        "colab": {
          "base_uri": "https://localhost:8080/",
          "height": 206
        },
        "id": "A2RBhmzNWFgY",
        "outputId": "86b136e2-b414-4521-bc2e-77768d427e33"
      },
      "execution_count": 6,
      "outputs": [
        {
          "output_type": "execute_result",
          "data": {
            "text/plain": [
              "             id                                               text  label  \\\n",
              "0  sample_11379  Oohh noo, Vicky Prasetyo is rumored to want to...      0   \n",
              "1   sample_4296  In my case, my family and friends never asked ...      1   \n",
              "2   sample_6019  When it was booming, I used to spend more than...      1   \n",
              "3   sample_5254  > In a response, he stated: \"If there is a hou...      0   \n",
              "4   sample_4120  HEH ELU YES, GO FOR IT NGABBB BANDUNG COLD PER...      0   \n",
              "\n",
              "   subreddit  created_utc        date original_language(s)  \n",
              "0  indonesia   1641812360  10-01-2022           Indonesian  \n",
              "1  indonesia   1543136805  25-11-2018           Indonesian  \n",
              "2  indonesia   1580290245  29-01-2020           Indonesian  \n",
              "3   malaysia   1642219040  15-01-2022                Malay  \n",
              "4  indonesia   1640355228  24-12-2021           Indonesian  "
            ],
            "text/html": [
              "\n",
              "\n",
              "  <div id=\"df-833171fd-7b37-4030-a06e-79a806afc75b\">\n",
              "    <div class=\"colab-df-container\">\n",
              "      <div>\n",
              "<style scoped>\n",
              "    .dataframe tbody tr th:only-of-type {\n",
              "        vertical-align: middle;\n",
              "    }\n",
              "\n",
              "    .dataframe tbody tr th {\n",
              "        vertical-align: top;\n",
              "    }\n",
              "\n",
              "    .dataframe thead th {\n",
              "        text-align: right;\n",
              "    }\n",
              "</style>\n",
              "<table border=\"1\" class=\"dataframe\">\n",
              "  <thead>\n",
              "    <tr style=\"text-align: right;\">\n",
              "      <th></th>\n",
              "      <th>id</th>\n",
              "      <th>text</th>\n",
              "      <th>label</th>\n",
              "      <th>subreddit</th>\n",
              "      <th>created_utc</th>\n",
              "      <th>date</th>\n",
              "      <th>original_language(s)</th>\n",
              "    </tr>\n",
              "  </thead>\n",
              "  <tbody>\n",
              "    <tr>\n",
              "      <th>0</th>\n",
              "      <td>sample_11379</td>\n",
              "      <td>Oohh noo, Vicky Prasetyo is rumored to want to...</td>\n",
              "      <td>0</td>\n",
              "      <td>indonesia</td>\n",
              "      <td>1641812360</td>\n",
              "      <td>10-01-2022</td>\n",
              "      <td>Indonesian</td>\n",
              "    </tr>\n",
              "    <tr>\n",
              "      <th>1</th>\n",
              "      <td>sample_4296</td>\n",
              "      <td>In my case, my family and friends never asked ...</td>\n",
              "      <td>1</td>\n",
              "      <td>indonesia</td>\n",
              "      <td>1543136805</td>\n",
              "      <td>25-11-2018</td>\n",
              "      <td>Indonesian</td>\n",
              "    </tr>\n",
              "    <tr>\n",
              "      <th>2</th>\n",
              "      <td>sample_6019</td>\n",
              "      <td>When it was booming, I used to spend more than...</td>\n",
              "      <td>1</td>\n",
              "      <td>indonesia</td>\n",
              "      <td>1580290245</td>\n",
              "      <td>29-01-2020</td>\n",
              "      <td>Indonesian</td>\n",
              "    </tr>\n",
              "    <tr>\n",
              "      <th>3</th>\n",
              "      <td>sample_5254</td>\n",
              "      <td>&gt; In a response, he stated: \"If there is a hou...</td>\n",
              "      <td>0</td>\n",
              "      <td>malaysia</td>\n",
              "      <td>1642219040</td>\n",
              "      <td>15-01-2022</td>\n",
              "      <td>Malay</td>\n",
              "    </tr>\n",
              "    <tr>\n",
              "      <th>4</th>\n",
              "      <td>sample_4120</td>\n",
              "      <td>HEH ELU YES, GO FOR IT NGABBB BANDUNG COLD PER...</td>\n",
              "      <td>0</td>\n",
              "      <td>indonesia</td>\n",
              "      <td>1640355228</td>\n",
              "      <td>24-12-2021</td>\n",
              "      <td>Indonesian</td>\n",
              "    </tr>\n",
              "  </tbody>\n",
              "</table>\n",
              "</div>\n",
              "      <button class=\"colab-df-convert\" onclick=\"convertToInteractive('df-833171fd-7b37-4030-a06e-79a806afc75b')\"\n",
              "              title=\"Convert this dataframe to an interactive table.\"\n",
              "              style=\"display:none;\">\n",
              "\n",
              "  <svg xmlns=\"http://www.w3.org/2000/svg\" height=\"24px\"viewBox=\"0 0 24 24\"\n",
              "       width=\"24px\">\n",
              "    <path d=\"M0 0h24v24H0V0z\" fill=\"none\"/>\n",
              "    <path d=\"M18.56 5.44l.94 2.06.94-2.06 2.06-.94-2.06-.94-.94-2.06-.94 2.06-2.06.94zm-11 1L8.5 8.5l.94-2.06 2.06-.94-2.06-.94L8.5 2.5l-.94 2.06-2.06.94zm10 10l.94 2.06.94-2.06 2.06-.94-2.06-.94-.94-2.06-.94 2.06-2.06.94z\"/><path d=\"M17.41 7.96l-1.37-1.37c-.4-.4-.92-.59-1.43-.59-.52 0-1.04.2-1.43.59L10.3 9.45l-7.72 7.72c-.78.78-.78 2.05 0 2.83L4 21.41c.39.39.9.59 1.41.59.51 0 1.02-.2 1.41-.59l7.78-7.78 2.81-2.81c.8-.78.8-2.07 0-2.86zM5.41 20L4 18.59l7.72-7.72 1.47 1.35L5.41 20z\"/>\n",
              "  </svg>\n",
              "      </button>\n",
              "\n",
              "\n",
              "\n",
              "    <div id=\"df-2977f0cd-13ce-40af-b348-4d623f5b11d6\">\n",
              "      <button class=\"colab-df-quickchart\" onclick=\"quickchart('df-2977f0cd-13ce-40af-b348-4d623f5b11d6')\"\n",
              "              title=\"Suggest charts.\"\n",
              "              style=\"display:none;\">\n",
              "\n",
              "<svg xmlns=\"http://www.w3.org/2000/svg\" height=\"24px\"viewBox=\"0 0 24 24\"\n",
              "     width=\"24px\">\n",
              "    <g>\n",
              "        <path d=\"M19 3H5c-1.1 0-2 .9-2 2v14c0 1.1.9 2 2 2h14c1.1 0 2-.9 2-2V5c0-1.1-.9-2-2-2zM9 17H7v-7h2v7zm4 0h-2V7h2v10zm4 0h-2v-4h2v4z\"/>\n",
              "    </g>\n",
              "</svg>\n",
              "      </button>\n",
              "    </div>\n",
              "\n",
              "<style>\n",
              "  .colab-df-quickchart {\n",
              "    background-color: #E8F0FE;\n",
              "    border: none;\n",
              "    border-radius: 50%;\n",
              "    cursor: pointer;\n",
              "    display: none;\n",
              "    fill: #1967D2;\n",
              "    height: 32px;\n",
              "    padding: 0 0 0 0;\n",
              "    width: 32px;\n",
              "  }\n",
              "\n",
              "  .colab-df-quickchart:hover {\n",
              "    background-color: #E2EBFA;\n",
              "    box-shadow: 0px 1px 2px rgba(60, 64, 67, 0.3), 0px 1px 3px 1px rgba(60, 64, 67, 0.15);\n",
              "    fill: #174EA6;\n",
              "  }\n",
              "\n",
              "  [theme=dark] .colab-df-quickchart {\n",
              "    background-color: #3B4455;\n",
              "    fill: #D2E3FC;\n",
              "  }\n",
              "\n",
              "  [theme=dark] .colab-df-quickchart:hover {\n",
              "    background-color: #434B5C;\n",
              "    box-shadow: 0px 1px 3px 1px rgba(0, 0, 0, 0.15);\n",
              "    filter: drop-shadow(0px 1px 2px rgba(0, 0, 0, 0.3));\n",
              "    fill: #FFFFFF;\n",
              "  }\n",
              "</style>\n",
              "\n",
              "    <script>\n",
              "      async function quickchart(key) {\n",
              "        const containerElement = document.querySelector('#' + key);\n",
              "        const charts = await google.colab.kernel.invokeFunction(\n",
              "            'suggestCharts', [key], {});\n",
              "      }\n",
              "    </script>\n",
              "\n",
              "      <script>\n",
              "\n",
              "function displayQuickchartButton(domScope) {\n",
              "  let quickchartButtonEl =\n",
              "    domScope.querySelector('#df-2977f0cd-13ce-40af-b348-4d623f5b11d6 button.colab-df-quickchart');\n",
              "  quickchartButtonEl.style.display =\n",
              "    google.colab.kernel.accessAllowed ? 'block' : 'none';\n",
              "}\n",
              "\n",
              "        displayQuickchartButton(document);\n",
              "      </script>\n",
              "      <style>\n",
              "    .colab-df-container {\n",
              "      display:flex;\n",
              "      flex-wrap:wrap;\n",
              "      gap: 12px;\n",
              "    }\n",
              "\n",
              "    .colab-df-convert {\n",
              "      background-color: #E8F0FE;\n",
              "      border: none;\n",
              "      border-radius: 50%;\n",
              "      cursor: pointer;\n",
              "      display: none;\n",
              "      fill: #1967D2;\n",
              "      height: 32px;\n",
              "      padding: 0 0 0 0;\n",
              "      width: 32px;\n",
              "    }\n",
              "\n",
              "    .colab-df-convert:hover {\n",
              "      background-color: #E2EBFA;\n",
              "      box-shadow: 0px 1px 2px rgba(60, 64, 67, 0.3), 0px 1px 3px 1px rgba(60, 64, 67, 0.15);\n",
              "      fill: #174EA6;\n",
              "    }\n",
              "\n",
              "    [theme=dark] .colab-df-convert {\n",
              "      background-color: #3B4455;\n",
              "      fill: #D2E3FC;\n",
              "    }\n",
              "\n",
              "    [theme=dark] .colab-df-convert:hover {\n",
              "      background-color: #434B5C;\n",
              "      box-shadow: 0px 1px 3px 1px rgba(0, 0, 0, 0.15);\n",
              "      filter: drop-shadow(0px 1px 2px rgba(0, 0, 0, 0.3));\n",
              "      fill: #FFFFFF;\n",
              "    }\n",
              "  </style>\n",
              "\n",
              "      <script>\n",
              "        const buttonEl =\n",
              "          document.querySelector('#df-833171fd-7b37-4030-a06e-79a806afc75b button.colab-df-convert');\n",
              "        buttonEl.style.display =\n",
              "          google.colab.kernel.accessAllowed ? 'block' : 'none';\n",
              "\n",
              "        async function convertToInteractive(key) {\n",
              "          const element = document.querySelector('#df-833171fd-7b37-4030-a06e-79a806afc75b');\n",
              "          const dataTable =\n",
              "            await google.colab.kernel.invokeFunction('convertToInteractive',\n",
              "                                                     [key], {});\n",
              "          if (!dataTable) return;\n",
              "\n",
              "          const docLinkHtml = 'Like what you see? Visit the ' +\n",
              "            '<a target=\"_blank\" href=https://colab.research.google.com/notebooks/data_table.ipynb>data table notebook</a>'\n",
              "            + ' to learn more about interactive tables.';\n",
              "          element.innerHTML = '';\n",
              "          dataTable['output_type'] = 'display_data';\n",
              "          await google.colab.output.renderOutput(dataTable, element);\n",
              "          const docLink = document.createElement('div');\n",
              "          docLink.innerHTML = docLinkHtml;\n",
              "          element.appendChild(docLink);\n",
              "        }\n",
              "      </script>\n",
              "    </div>\n",
              "  </div>\n"
            ]
          },
          "metadata": {},
          "execution_count": 6
        }
      ]
    },
    {
      "cell_type": "code",
      "source": [
        "#REQUIRED FOR TWITTER DATA_SET\n",
        "# new_df['label'] = new_df.apply(lambda row: 0 if row['hate_speech'] + row['offensive_language'] == 0 else 1, axis=1)\n",
        "# new_df.rename(columns={'tweet': 'text'}, inplace=True)"
      ],
      "metadata": {
        "id": "4pCyrH4-S1g9"
      },
      "execution_count": 7,
      "outputs": []
    },
    {
      "cell_type": "code",
      "source": [
        "new_df.shape"
      ],
      "metadata": {
        "colab": {
          "base_uri": "https://localhost:8080/"
        },
        "id": "VKn41Pppz6Gc",
        "outputId": "b157cf6b-7f5b-4110-e728-abb048b99483"
      },
      "execution_count": 8,
      "outputs": [
        {
          "output_type": "execute_result",
          "data": {
            "text/plain": [
              "(15000, 7)"
            ]
          },
          "metadata": {},
          "execution_count": 8
        }
      ]
    },
    {
      "cell_type": "code",
      "source": [
        "df = new_df[['text', 'label']]"
      ],
      "metadata": {
        "id": "yOtzxJIiWJIn"
      },
      "execution_count": 9,
      "outputs": []
    },
    {
      "cell_type": "code",
      "source": [
        "df.drop_duplicates(inplace=True)\n",
        "df.reset_index(drop=True, inplace=True)"
      ],
      "metadata": {
        "id": "ijvQSYtmWMVi",
        "colab": {
          "base_uri": "https://localhost:8080/"
        },
        "outputId": "13568d37-35d3-4ccf-873a-dc8df6a5aa09"
      },
      "execution_count": 10,
      "outputs": [
        {
          "output_type": "stream",
          "name": "stderr",
          "text": [
            "<ipython-input-10-bd30c309daa2>:1: SettingWithCopyWarning: \n",
            "A value is trying to be set on a copy of a slice from a DataFrame\n",
            "\n",
            "See the caveats in the documentation: https://pandas.pydata.org/pandas-docs/stable/user_guide/indexing.html#returning-a-view-versus-a-copy\n",
            "  df.drop_duplicates(inplace=True)\n"
          ]
        }
      ]
    },
    {
      "cell_type": "code",
      "source": [
        "df.shape"
      ],
      "metadata": {
        "colab": {
          "base_uri": "https://localhost:8080/"
        },
        "id": "J1WMUFnR0BWt",
        "outputId": "7ff53c08-17da-44d0-954d-fd8b38fe5f36"
      },
      "execution_count": 11,
      "outputs": [
        {
          "output_type": "execute_result",
          "data": {
            "text/plain": [
              "(14983, 2)"
            ]
          },
          "metadata": {},
          "execution_count": 11
        }
      ]
    },
    {
      "cell_type": "code",
      "source": [
        "df['label'].value_counts()"
      ],
      "metadata": {
        "colab": {
          "base_uri": "https://localhost:8080/"
        },
        "id": "2JQQ23XxMvde",
        "outputId": "83b84f47-af38-4ec3-9aa0-26c45fbdeed7"
      },
      "execution_count": 12,
      "outputs": [
        {
          "output_type": "execute_result",
          "data": {
            "text/plain": [
              "0    8811\n",
              "1    6172\n",
              "Name: label, dtype: int64"
            ]
          },
          "metadata": {},
          "execution_count": 12
        }
      ]
    },
    {
      "cell_type": "code",
      "source": [
        "from textblob import TextBlob\n",
        "df['sentiment_score'] = df['text'].apply(lambda x: TextBlob(x).sentiment.polarity)\n",
        "df['sentiment_label'] = df['sentiment_score'].apply(lambda score: \"positive\" if score > 0 else \"neutral\" if score == 0 else \"negative\")"
      ],
      "metadata": {
        "id": "pofwtbt8WRm0"
      },
      "execution_count": null,
      "outputs": []
    },
    {
      "cell_type": "code",
      "source": [
        "df.head()"
      ],
      "metadata": {
        "id": "x3fpcmqKw57t"
      },
      "execution_count": null,
      "outputs": []
    },
    {
      "cell_type": "code",
      "source": [
        "df.loc[:, 'text'] = df['text'].str.lower()"
      ],
      "metadata": {
        "id": "LqLXWcQRGad6"
      },
      "execution_count": null,
      "outputs": []
    },
    {
      "cell_type": "code",
      "source": [
        "import nltk\n",
        "nltk.download('stopwords')\n",
        "nltk.download('punkt')"
      ],
      "metadata": {
        "id": "2W0EPzz9WhZP"
      },
      "execution_count": null,
      "outputs": []
    },
    {
      "cell_type": "code",
      "source": [
        "from nltk.corpus import stopwords\n",
        "from nltk.tokenize import word_tokenize\n",
        "stop_words = set(stopwords.words('english'))\n",
        "from nltk.stem.porter import PorterStemmer\n",
        "porter = PorterStemmer()"
      ],
      "metadata": {
        "id": "un2dTDDTWkgF"
      },
      "execution_count": null,
      "outputs": []
    },
    {
      "cell_type": "code",
      "source": [
        "def get_token(obj):\n",
        "        tokens = word_tokenize(obj)\n",
        "        tokens = [word for word in tokens if word.isalpha()]\n",
        "        tokens = [word for word in tokens if not word in stop_words]\n",
        "        tokens = [porter.stem(word) for word in tokens]\n",
        "        tokens = \" \".join(tokens)\n",
        "        return tokens"
      ],
      "metadata": {
        "id": "pDwBHICCWlkk"
      },
      "execution_count": null,
      "outputs": []
    },
    {
      "cell_type": "code",
      "source": [
        "df['text'] = df['text'].apply(get_token)"
      ],
      "metadata": {
        "id": "4d8AUn7CWqFD"
      },
      "execution_count": null,
      "outputs": []
    },
    {
      "cell_type": "code",
      "source": [
        "df.head()"
      ],
      "metadata": {
        "id": "b-1JeUGlxQNg"
      },
      "execution_count": null,
      "outputs": []
    },
    {
      "cell_type": "markdown",
      "source": [
        "**HATE LEXICONS**"
      ],
      "metadata": {
        "id": "1vU_CdQMc-dD"
      }
    },
    {
      "cell_type": "code",
      "source": [
        "df1 = pd.read_csv(r\"/lexicon.csv\")"
      ],
      "metadata": {
        "id": "-YmlzAF6Wt8D"
      },
      "execution_count": null,
      "outputs": []
    },
    {
      "cell_type": "code",
      "execution_count": null,
      "metadata": {
        "id": "T0L4Zec8mEoz"
      },
      "outputs": [],
      "source": [
        "df1.loc[:, 'Hate_keywords'] = df1['Hate_keywords'].str.lower()\n",
        "df1.drop_duplicates(subset=['Hate_keywords'], keep='first', inplace=True)\n",
        "df1.reset_index(drop=True, inplace=True)\n",
        "df1['Hate_keywords'] = df1['Hate_keywords'].apply(get_token)"
      ]
    },
    {
      "cell_type": "code",
      "source": [
        "df1.shape"
      ],
      "metadata": {
        "id": "0S23MaaFW-WJ"
      },
      "execution_count": null,
      "outputs": []
    },
    {
      "cell_type": "code",
      "source": [
        "df1.head()"
      ],
      "metadata": {
        "id": "Y-VYsaFkxbpE"
      },
      "execution_count": null,
      "outputs": []
    },
    {
      "cell_type": "markdown",
      "source": [
        "**FINAL DATA-FRAME**"
      ],
      "metadata": {
        "id": "POkdNWxudVEb"
      }
    },
    {
      "cell_type": "code",
      "execution_count": null,
      "metadata": {
        "id": "SRi9i4NomEo0"
      },
      "outputs": [],
      "source": [
        "# Initialize the word_freq dictionary\n",
        "word_freq = {}\n",
        "# Count the frequency of words from 'Hate_keywords' column in the lexicon\n",
        "for word in df1['Hate_keywords'].explode():\n",
        "    if word not in word_freq:\n",
        "        word_freq[word] = 0\n",
        "\n",
        "# Tokenize the words in the comments and count their frequency\n",
        "no_of_keywords = []\n",
        "list_of_keywords = []\n",
        "for comment in df['text']:\n",
        "    words = word_tokenize(comment)\n",
        "    key_words = []\n",
        "    for word in words:\n",
        "        if word in word_freq:\n",
        "            word_freq[word] += 1\n",
        "            key_words.append(word)\n",
        "    no_of_keywords.append(len(key_words))\n",
        "    if key_words:\n",
        "      list_of_keywords.append(\",\".join(key_words))\n",
        "    else:\n",
        "      list_of_keywords.append(\"No hate keywords\")\n",
        "df.loc[:, 'no_of_hate_words'] = no_of_keywords\n",
        "df.loc[:, 'hate_keywords'] = list_of_keywords\n"
      ]
    },
    {
      "cell_type": "code",
      "source": [
        "df.head()"
      ],
      "metadata": {
        "id": "5vQIkdGLLl0l"
      },
      "execution_count": null,
      "outputs": []
    },
    {
      "cell_type": "code",
      "source": [
        "df['label'].value_counts()"
      ],
      "metadata": {
        "id": "XE0w56M_Ba3M"
      },
      "execution_count": null,
      "outputs": []
    },
    {
      "cell_type": "code",
      "source": [
        "df['sentiment_label'].value_counts()"
      ],
      "metadata": {
        "id": "GXd-axX9A_sy"
      },
      "execution_count": null,
      "outputs": []
    },
    {
      "cell_type": "code",
      "source": [
        "# count = pd.DataFrame(df.groupby('label')['no_of_hate_words'].value_counts(sort = False))\n",
        "# count.to_csv('no_of_hate_words', index=False)\n",
        "# from google.colab import files\n",
        "# files.download('no_of_hate_words')\n",
        "df.groupby('label')['no_of_hate_words'].value_counts(sort = False)"
      ],
      "metadata": {
        "id": "bKJsPbW_xyW9"
      },
      "execution_count": null,
      "outputs": []
    },
    {
      "cell_type": "code",
      "source": [
        "sns.countplot(x = 'sentiment_label', data = df)"
      ],
      "metadata": {
        "id": "GynfynvHXNn_"
      },
      "execution_count": null,
      "outputs": []
    },
    {
      "cell_type": "code",
      "source": [
        "sns.countplot(x = 'no_of_hate_words', data = df, hue = 'label')\n",
        "plt.xlim(0, 18)"
      ],
      "metadata": {
        "id": "Rem3uB6RvFB3"
      },
      "execution_count": null,
      "outputs": []
    },
    {
      "cell_type": "code",
      "source": [
        "sns.displot(df, x = 'sentiment_score', hue = 'label')"
      ],
      "metadata": {
        "id": "rjwMBMs3p9qH"
      },
      "execution_count": null,
      "outputs": []
    },
    {
      "cell_type": "code",
      "source": [
        "sns.jointplot(x = 'sentiment_score', y = 'no_of_hate_words', data = df, hue = 'label')"
      ],
      "metadata": {
        "id": "Y0lA5b8Pt4gT"
      },
      "execution_count": null,
      "outputs": []
    },
    {
      "cell_type": "code",
      "source": [
        "sns.heatmap(df.corr(), annot = True)"
      ],
      "metadata": {
        "id": "CK3M4PYV7Ld7"
      },
      "execution_count": null,
      "outputs": []
    },
    {
      "cell_type": "markdown",
      "source": [
        "# **Count of Hate_Keywords**"
      ],
      "metadata": {
        "id": "-LGPbhT8XWTK"
      }
    },
    {
      "cell_type": "code",
      "source": [
        "df_exploded = df.assign(hate_keywords=df['hate_keywords'].str.split(',')).explode('hate_keywords')\n",
        "sentiment_counts = df_exploded.groupby(['hate_keywords', 'sentiment_label']).size().reset_index(name='count')\n",
        "pivot_sentiment_counts = sentiment_counts.pivot_table(index='hate_keywords', columns='sentiment_label', values='count', fill_value=0)\n",
        "pivot_sentiment_counts['Total'] = pivot_sentiment_counts.sum(axis=1)\n",
        "pivot_sentiment_counts.sort_values(by='Total', ascending=False, inplace = True)"
      ],
      "metadata": {
        "id": "SZ-zPFpaXfab"
      },
      "execution_count": null,
      "outputs": []
    },
    {
      "cell_type": "code",
      "source": [
        "pivot_sentiment_counts.head(10)"
      ],
      "metadata": {
        "id": "0dd-j_nQevsZ"
      },
      "execution_count": null,
      "outputs": []
    },
    {
      "cell_type": "code",
      "source": [
        "# pivot_sentiment_counts.to_csv('sentiment_counts.csv')"
      ],
      "metadata": {
        "id": "4vExKDKqfBl5"
      },
      "execution_count": null,
      "outputs": []
    },
    {
      "cell_type": "markdown",
      "source": [
        "# **Error Analysis**"
      ],
      "metadata": {
        "id": "A1DZabG0h4xy"
      }
    },
    {
      "cell_type": "code",
      "source": [
        "from sklearn.metrics import log_loss\n",
        "from sklearn.metrics import confusion_matrix, classification_report\n",
        "predicted_label_keyword = [1 if value > 0 else 0 for value in df['no_of_hate_words']]\n",
        "predicted_label_sentiment = [0 if value >= 0 else 1 for value in df['sentiment_score']]"
      ],
      "metadata": {
        "id": "K6RhUuo4h_4w"
      },
      "execution_count": null,
      "outputs": []
    },
    {
      "cell_type": "code",
      "source": [
        "df['label'].value_counts()"
      ],
      "metadata": {
        "id": "2yY4qnY-zPvK"
      },
      "execution_count": null,
      "outputs": []
    },
    {
      "cell_type": "code",
      "source": [
        "print(pd.DataFrame(confusion_matrix(df['label'], predicted_label_keyword), index=['Actual 0', 'Actual 1'], columns=['Predicted 0', 'Predicted 1']))\n",
        "print('\\n');\n",
        "print(classification_report(df['label'], predicted_label_keyword))"
      ],
      "metadata": {
        "id": "dmtGWKziizeI"
      },
      "execution_count": null,
      "outputs": []
    },
    {
      "cell_type": "code",
      "source": [
        "print(pd.DataFrame(confusion_matrix(df['label'], predicted_label_sentiment), index=['Actual 0', 'Actual 1'], columns=['Predicted 0', 'Predicted 1']))\n",
        "print('\\n');\n",
        "print(classification_report(df['label'], predicted_label_sentiment))"
      ],
      "metadata": {
        "id": "ITgLKmYHmPRq"
      },
      "execution_count": null,
      "outputs": []
    },
    {
      "cell_type": "code",
      "source": [
        "loss_key_words = log_loss(df['label'], predicted_label_keyword)\n",
        "loss_sentiment = log_loss(df['label'], predicted_label_sentiment)\n",
        "print(loss_key_words)\n",
        "print(loss_sentiment)"
      ],
      "metadata": {
        "id": "UNw2PU6fBP0q"
      },
      "execution_count": null,
      "outputs": []
    }
  ]
}